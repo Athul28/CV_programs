{
 "cells": [
  {
   "cell_type": "markdown",
   "id": "cc2130ca-86a5-4a48-9721-252c2a8593ac",
   "metadata": {},
   "source": [
    "### Demonstrate Haar feature-based cascade classifiers for Face and Eye Detection on images."
   ]
  },
  {
   "cell_type": "code",
   "execution_count": 39,
   "id": "a82722df-3a35-4911-859c-f191f6fe70af",
   "metadata": {},
   "outputs": [],
   "source": [
    "import cv2\n",
    "face_cascade=cv2.CascadeClassifier(cv2.data.haarcascades+'haarcascade_frontalface_default.xml')\n",
    "eye_cascade=cv2.CascadeClassifier(cv2.data.haarcascades+'haarcascade_eye.xml')"
   ]
  },
  {
   "cell_type": "code",
   "execution_count": 41,
   "id": "55a7c30b-688f-47e2-80b0-65e04b8364b4",
   "metadata": {},
   "outputs": [],
   "source": [
    "image=cv2.imread('../images/nandan_pi.jpeg')\n",
    "gray=cv2.cvtColor(image,cv2.COLOR_BGR2GRAY)"
   ]
  },
  {
   "cell_type": "code",
   "execution_count": 43,
   "id": "cc1ac141-73de-4106-94bb-bcf7df91287a",
   "metadata": {},
   "outputs": [],
   "source": [
    "faces=face_cascade.detectMultiScale(gray,scaleFactor=1.1,minNeighbors=5,minSize=(30,30))\n",
    "eyes=eye_cascade.detectMultiScale(gray)"
   ]
  },
  {
   "cell_type": "code",
   "execution_count": 44,
   "id": "0d584f56-874e-456d-82bc-9bad181f19a2",
   "metadata": {},
   "outputs": [],
   "source": [
    "for (x,y,w,h) in faces:\n",
    "    cv2.rectangle(image,(x,y),(x+w,y+h),(255,0,0),2)\n",
    "\n",
    "    #eye detection\n",
    "    # face_roi=gray[y:y+h,x:x+w]\n",
    "    # color_face_roi=image[y:y+h,x:x+w]\n",
    "    # eyes=eye_cascade.detectMultiScale(face_roi)\n",
    "\n",
    "    # for (ex,ey,ew,eh) in eyes:\n",
    "    #     cv2.rectangle(color_face_roi,(ex,ey),(ex+ew,ey+eh),(0,0,255),2)\n",
    "\n",
    "for (ex,ey,ew,eh) in eyes:\n",
    "    cv2.rectangle(image,(ex,ey),(ex+ew,ey+eh),(0,0,255),2)"
   ]
  },
  {
   "cell_type": "code",
   "execution_count": 45,
   "id": "112bb466-9a72-4816-a86d-fffb55e27237",
   "metadata": {},
   "outputs": [],
   "source": [
    "cv2.imshow('image',image)\n",
    "cv2.waitKey(0)\n",
    "cv2.destroyAllWindows()"
   ]
  },
  {
   "cell_type": "code",
   "execution_count": null,
   "id": "20b5f926-294e-413f-b3b8-cabc11ee1b90",
   "metadata": {},
   "outputs": [],
   "source": []
  }
 ],
 "metadata": {
  "kernelspec": {
   "display_name": "Python 3 (ipykernel)",
   "language": "python",
   "name": "python3"
  },
  "language_info": {
   "codemirror_mode": {
    "name": "ipython",
    "version": 3
   },
   "file_extension": ".py",
   "mimetype": "text/x-python",
   "name": "python",
   "nbconvert_exporter": "python",
   "pygments_lexer": "ipython3",
   "version": "3.12.4"
  }
 },
 "nbformat": 4,
 "nbformat_minor": 5
}
