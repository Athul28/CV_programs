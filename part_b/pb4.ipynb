{
 "cells": [
  {
   "cell_type": "markdown",
   "id": "41dca779-b988-411b-9b7e-06ef61397c30",
   "metadata": {},
   "source": [
    "### Develop a classification model using YOLO object detection algorithm using OpenCV. "
   ]
  },
  {
   "cell_type": "code",
   "execution_count": 40,
   "id": "9123812b-4895-4210-b40f-77966e72e2b0",
   "metadata": {},
   "outputs": [],
   "source": [
    "import cv2\n",
    "import numpy as np\n",
    "\n",
    "net=cv2.dnn.readNet(\"yolov3.weights\",\"yolov3.cfg\")\n",
    "layer_names=net.getLayerNames()\n",
    "output_layers=[layer_names[i-1] for i in net.getUnconnectedOutLayers()]"
   ]
  },
  {
   "cell_type": "code",
   "execution_count": 41,
   "id": "f03e6134-be1c-4ace-a8cd-8dc7b433635a",
   "metadata": {},
   "outputs": [],
   "source": [
    "with open(\"coco.names\",\"r\") as f:\n",
    "    classes=[line.strip() for line in f.readlines()]"
   ]
  },
  {
   "cell_type": "code",
   "execution_count": 42,
   "id": "73d2ebde-6f53-4d8e-b9f9-70df0026b28f",
   "metadata": {},
   "outputs": [],
   "source": [
    "image=cv2.imread('../images/img.png')\n",
    "height,width=image.shape[:2]"
   ]
  },
  {
   "cell_type": "code",
   "execution_count": 43,
   "id": "d1a3752b-ad61-48b6-946d-d441dc366a57",
   "metadata": {},
   "outputs": [],
   "source": [
    "blob=cv2.dnn.blobFromImage(image,1/255.0,(416,416),(0,0,0),True,crop=False)\n",
    "net.setInput(blob)\n",
    "outs=net.forward(output_layers)"
   ]
  },
  {
   "cell_type": "code",
   "execution_count": 47,
   "id": "399c4718-c947-445b-9659-e22a62760c9d",
   "metadata": {},
   "outputs": [],
   "source": [
    "detected_boxes=[]\n",
    "detected_classes=[]\n",
    "detected_confidences=[]"
   ]
  },
  {
   "cell_type": "code",
   "execution_count": 48,
   "id": "f142ecd8-894f-4697-9cb2-07525344c9ca",
   "metadata": {},
   "outputs": [],
   "source": [
    "for out in outs:\n",
    "    for detection in out:\n",
    "        scores=detection[5:]\n",
    "        class_id=np.argmax(scores)\n",
    "        confidence=scores[class_id]\n",
    "        if confidence>0.2:\n",
    "            center_x,center_y,width,height=(detection[0:4]*np.array([width,height,width,height])).astype(\"int\")\n",
    "            x=int(center_x-width/2)\n",
    "            y=int(center_y-height/2)\n",
    "            detected_boxes.append([x,y,int(width),int(height)])\n",
    "            detected_classes.append(class_id)\n",
    "            detected_confidences.append(float(confidence))"
   ]
  },
  {
   "cell_type": "code",
   "execution_count": 49,
   "id": "eca824ce-bb86-4c7a-9e40-7cefeaa789de",
   "metadata": {},
   "outputs": [
    {
     "name": "stdout",
     "output_type": "stream",
     "text": [
      "[0]\n"
     ]
    }
   ],
   "source": [
    "indices=cv2.dnn.NMSBoxes(detected_boxes,detected_confidences,0.5,0.3)\n",
    "print(indices)\n",
    "for i in indices.flatten():\n",
    "    x,y,w,h=detected_boxes[i]\n",
    "    label=f\"{classes[detected_classes[i]]}:{detected_confidences[i]:.2f}\"\n",
    "    cv2.rectangle(image,(x,y),(x+w,y+h),(0,255,0,2))\n",
    "    cv2.putText(image,classes[detected_classes[i]],(x,y-5),cv2.FONT_HERSHEY_SIMPLEX,0.5,(0,255,0),2)"
   ]
  },
  {
   "cell_type": "code",
   "execution_count": 50,
   "id": "4c5abe64-9470-4b61-ab57-6e9ea518891d",
   "metadata": {},
   "outputs": [],
   "source": [
    "cv2.imshow(\"YOLO object detection\",image)\n",
    "cv2.waitKey(0)\n",
    "cv2.destroyAllWindows()"
   ]
  },
  {
   "cell_type": "code",
   "execution_count": null,
   "id": "4af50ff5-dacc-46bc-9119-9b2b8eea9c93",
   "metadata": {},
   "outputs": [],
   "source": []
  }
 ],
 "metadata": {
  "kernelspec": {
   "display_name": "Python 3 (ipykernel)",
   "language": "python",
   "name": "python3"
  },
  "language_info": {
   "codemirror_mode": {
    "name": "ipython",
    "version": 3
   },
   "file_extension": ".py",
   "mimetype": "text/x-python",
   "name": "python",
   "nbconvert_exporter": "python",
   "pygments_lexer": "ipython3",
   "version": "3.12.4"
  }
 },
 "nbformat": 4,
 "nbformat_minor": 5
}
