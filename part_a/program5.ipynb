{
 "cells": [
  {
   "cell_type": "code",
   "execution_count": 1,
   "id": "f8367296-fd39-4d8c-9e47-f15b32af3c27",
   "metadata": {},
   "outputs": [],
   "source": [
    "import cv2\n",
    "import numpy as np\n",
    "\n",
    "img1=cv2.imread('1bit1.png')\n",
    "img2=cv2.imread('2bit2.png')"
   ]
  },
  {
   "cell_type": "code",
   "execution_count": 19,
   "id": "30689c82-e6ca-4bfb-be83-bbafe7827b3f",
   "metadata": {},
   "outputs": [],
   "source": [
    "dest_and=cv2.bitwise_and(img1,img2,mask=None)\n",
    "dest_or=cv2.bitwise_or(img1,img2,mask=None)\n",
    "dest_not1=cv2.bitwise_not(img1,mask=None)\n",
    "dest_not2=cv2.bitwise_not(img2,mask=None)\n",
    "dest_xor=cv2.bitwise_xor(img1,img2,mask=None)"
   ]
  },
  {
   "cell_type": "code",
   "execution_count": 23,
   "id": "720b53e2-7a94-4c93-aee0-857c616b7cf8",
   "metadata": {},
   "outputs": [],
   "source": [
    "cv2.imshow(\"Image1\",img1)\n",
    "cv2.imshow(\"Image2\",img2)\n",
    "\n",
    "cv2.imshow(\"AND\",dest_and)\n",
    "cv2.imshow(\"OR\",dest_or)\n",
    "cv2.imshow(\"NOT of img1\",dest_not1)\n",
    "cv2.imshow(\"NOT of img2\",dest_not2)\n",
    "cv2.imshow(\"XOR\",dest_xor)\n",
    "cv2.waitKey(0)\n",
    "cv2.destroyAllWindows()"
   ]
  },
  {
   "cell_type": "code",
   "execution_count": null,
   "id": "0b820436-0291-4795-8bb9-4e10e4143799",
   "metadata": {},
   "outputs": [],
   "source": []
  }
 ],
 "metadata": {
  "kernelspec": {
   "display_name": "Python 3 (ipykernel)",
   "language": "python",
   "name": "python3"
  },
  "language_info": {
   "codemirror_mode": {
    "name": "ipython",
    "version": 3
   },
   "file_extension": ".py",
   "mimetype": "text/x-python",
   "name": "python",
   "nbconvert_exporter": "python",
   "pygments_lexer": "ipython3",
   "version": "3.12.4"
  }
 },
 "nbformat": 4,
 "nbformat_minor": 5
}
