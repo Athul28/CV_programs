{
 "cells": [
  {
   "cell_type": "markdown",
   "id": "90044a06-83ca-448b-b454-2bc72d86e67f",
   "metadata": {},
   "source": [
    "### Implement different Thresholding techniques on images using openCV. "
   ]
  },
  {
   "cell_type": "code",
   "execution_count": 2,
   "id": "2bd7b595-4f5e-497c-99e7-71737dafca1e",
   "metadata": {},
   "outputs": [],
   "source": [
    "import cv2\n",
    "image=cv2.imread('../images/img.png')\n",
    "gray=cv2.cvtColor(image,cv2.COLOR_BGR2GRAY)"
   ]
  },
  {
   "cell_type": "code",
   "execution_count": 14,
   "id": "b0f53a05-8969-4832-b7b0-4facc5fcf372",
   "metadata": {},
   "outputs": [],
   "source": [
    "_,t1=cv2.threshold(gray,127,255,cv2.THRESH_BINARY)\n",
    "_,t2=cv2.threshold(gray,127,255,cv2.THRESH_BINARY_INV)\n",
    "_,t3=cv2.threshold(gray,127,255,cv2.THRESH_TRUNC)\n",
    "_,t4=cv2.threshold(gray,127,255,cv2.THRESH_TOZERO)\n",
    "_,t5=cv2.threshold(gray,127,255,cv2.THRESH_TOZERO_INV)"
   ]
  },
  {
   "cell_type": "code",
   "execution_count": 18,
   "id": "9df60b24-0114-409d-9078-89c997961269",
   "metadata": {},
   "outputs": [],
   "source": [
    "cv2.imshow(\"Original image\",image)\n",
    "cv2.imshow(\"Thresh binary\",t1)\n",
    "cv2.imshow(\"Thresh binary inversion\",t2)\n",
    "#display all the images....\n",
    "\n",
    "cv2.waitKey(0)\n",
    "cv2.destroyAllWindows()"
   ]
  },
  {
   "cell_type": "code",
   "execution_count": null,
   "id": "3f45ab4a-7b9a-4514-bcad-6feb99678f5f",
   "metadata": {},
   "outputs": [],
   "source": []
  }
 ],
 "metadata": {
  "kernelspec": {
   "display_name": "Python 3 (ipykernel)",
   "language": "python",
   "name": "python3"
  },
  "language_info": {
   "codemirror_mode": {
    "name": "ipython",
    "version": 3
   },
   "file_extension": ".py",
   "mimetype": "text/x-python",
   "name": "python",
   "nbconvert_exporter": "python",
   "pygments_lexer": "ipython3",
   "version": "3.12.4"
  }
 },
 "nbformat": 4,
 "nbformat_minor": 5
}
