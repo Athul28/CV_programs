{
 "cells": [
  {
   "cell_type": "markdown",
   "id": "9c8e2314",
   "metadata": {},
   "source": [
    "## Write a program in python to resize, crop and rotate an image using OpenCV. \n"
   ]
  },
  {
   "cell_type": "code",
   "execution_count": 18,
   "id": "ba250120",
   "metadata": {},
   "outputs": [],
   "source": [
    "import cv2\n",
    "import numpy as np\n",
    "image = cv2.imread('../images/img.png')"
   ]
  },
  {
   "cell_type": "code",
   "execution_count": 20,
   "id": "fd2617e5",
   "metadata": {},
   "outputs": [],
   "source": [
    "resized_image=cv2.resize(image,(300,300))"
   ]
  },
  {
   "cell_type": "code",
   "execution_count": 22,
   "id": "ff34a3ca-9176-4d45-8825-b7b86bdd16bc",
   "metadata": {},
   "outputs": [],
   "source": [
    "cropped_image=image[10:100,20:200]"
   ]
  },
  {
   "cell_type": "code",
   "execution_count": 28,
   "id": "b6985aaf-c0e4-4370-85bf-9c44053c6442",
   "metadata": {},
   "outputs": [],
   "source": [
    "h,w,_=image.shape\n",
    "rotation_matrix=cv2.getRotationMatrix2D((w//2,h//2),45,1.0)\n",
    "rotated_image=cv2.warpAffine(image,rotation_matrix,(w,h))"
   ]
  },
  {
   "cell_type": "code",
   "execution_count": 30,
   "id": "4421ae56",
   "metadata": {},
   "outputs": [],
   "source": [
    "cv2.imshow('Resized Image',resized_image)\n",
    "cv2.imshow('Cropped Image',cropped_image)\n",
    "cv2.imshow('Rotated Image',rotated_image)\n",
    "\n",
    "cv2.waitKey(0)\n",
    "cv2.destroyAllWindows()"
   ]
  },
  {
   "cell_type": "code",
   "execution_count": null,
   "id": "3e2c2f83",
   "metadata": {},
   "outputs": [],
   "source": []
  }
 ],
 "metadata": {
  "kernelspec": {
   "display_name": "Python 3 (ipykernel)",
   "language": "python",
   "name": "python3"
  },
  "language_info": {
   "codemirror_mode": {
    "name": "ipython",
    "version": 3
   },
   "file_extension": ".py",
   "mimetype": "text/x-python",
   "name": "python",
   "nbconvert_exporter": "python",
   "pygments_lexer": "ipython3",
   "version": "3.12.4"
  }
 },
 "nbformat": 4,
 "nbformat_minor": 5
}
