{
 "cells": [
  {
   "cell_type": "markdown",
   "id": "720730ba",
   "metadata": {},
   "source": [
    "## Write a program in python to perform different Morphological operations on images based on OpenCV"
   ]
  },
  {
   "cell_type": "code",
   "execution_count": 1,
   "id": "14ea06b9",
   "metadata": {},
   "outputs": [],
   "source": [
    "import cv2\n",
    "import numpy as np"
   ]
  },
  {
   "cell_type": "code",
   "execution_count": 2,
   "id": "0e561cc6",
   "metadata": {},
   "outputs": [],
   "source": [
    "img = cv2.imread('morph.jpg')\n",
    "kernel = np.ones((5,5),np.uint8)"
   ]
  },
  {
   "cell_type": "code",
   "execution_count": 3,
   "id": "b6ccf472",
   "metadata": {},
   "outputs": [],
   "source": [
    "img_erosion = cv2.erode(img,kernel,iterations=1)\n",
    "\n",
    "img_dilation = cv2.dilate(img,kernel,iterations=1)\n",
    "\n",
    "img_opening = cv2.morphologyEx(img,cv2.MORPH_OPEN,kernel,iterations=1)\n",
    "\n",
    "img_closing = cv2.morphologyEx(img,cv2.MORPH_CLOSE,kernel,iterations=1)\n",
    "\n",
    "img_morph_gradient = cv2.morphologyEx(img,cv2.MORPH_GRADIENT,kernel)"
   ]
  },
  {
   "cell_type": "code",
   "execution_count": 7,
   "id": "4605aa6c",
   "metadata": {},
   "outputs": [],
   "source": [
    "cv2.imshow('Original Image',img)\n",
    "cv2.imshow('Erosion',img_erosion)\n",
    "cv2.imshow('Dilation',img_dilation)\n",
    "cv2.imshow('Opening',img_opening)\n",
    "cv2.imshow('Closing',img_closing)\n",
    "cv2.imshow('Morph Gradient',img_morph_gradient)\n",
    "cv2.waitKey(0)\n",
    "cv2.destroyAllWindows()"
   ]
  },
  {
   "cell_type": "code",
   "execution_count": null,
   "id": "a89a3447",
   "metadata": {},
   "outputs": [],
   "source": []
  }
 ],
 "metadata": {
  "kernelspec": {
   "display_name": "Python 3 (ipykernel)",
   "language": "python",
   "name": "python3"
  },
  "language_info": {
   "codemirror_mode": {
    "name": "ipython",
    "version": 3
   },
   "file_extension": ".py",
   "mimetype": "text/x-python",
   "name": "python",
   "nbconvert_exporter": "python",
   "pygments_lexer": "ipython3",
   "version": "3.12.4"
  }
 },
 "nbformat": 4,
 "nbformat_minor": 5
}
