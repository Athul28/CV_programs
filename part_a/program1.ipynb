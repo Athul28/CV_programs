{
 "cells": [
  {
   "cell_type": "markdown",
   "id": "2ddbeb05",
   "metadata": {},
   "source": [
    "## Write a program to implement basic image procesing operations:\n",
    "### Reading,writing,conversion,complement of an image"
   ]
  },
  {
   "cell_type": "code",
   "execution_count": 16,
   "id": "81baadaf-580c-4876-9ce6-324401eddc77",
   "metadata": {},
   "outputs": [],
   "source": [
    "import cv2\n",
    "\n",
    "#Reading the image\n",
    "image=cv2.imread('img.png')\n",
    "\n",
    "#Displaying the image\n",
    "cv2.imshow('Image',image)\n",
    "cv2.waitKey(0)\n",
    "cv2.destroyAllWindows()"
   ]
  },
  {
   "cell_type": "code",
   "execution_count": 18,
   "id": "c9000c3b-8ec5-4e0f-80fb-3826ac545ad8",
   "metadata": {},
   "outputs": [
    {
     "data": {
      "text/plain": [
       "True"
      ]
     },
     "execution_count": 18,
     "metadata": {},
     "output_type": "execute_result"
    }
   ],
   "source": [
    "#Saving the image file (the image gets saved in the current folder)\n",
    "cv2.imwrite('output.jpg',image)"
   ]
  },
  {
   "cell_type": "code",
   "execution_count": 20,
   "id": "431fc217-923f-4d6a-be4d-72ca993015f4",
   "metadata": {},
   "outputs": [],
   "source": [
    "#Converting the image to grayscale\n",
    "grey=cv2.cvtColor(image,cv2.COLOR_BGR2GRAY)\n",
    "\n",
    "#Displaying the greyscale image\n",
    "cv2.imshow('Greyscale image',grey)\n",
    "cv2.waitKey(0)\n",
    "cv2.destroyAllWindows()"
   ]
  },
  {
   "cell_type": "code",
   "execution_count": 22,
   "id": "6389ae5e-f76d-49cb-a7be-df628508e2f0",
   "metadata": {},
   "outputs": [],
   "source": [
    "#Finding the complement of the image\n",
    "c_img=255-image\n",
    "\n",
    "#Displaying the complement image\n",
    "cv2.imshow('Complement Image',c_img)\n",
    "cv2.waitKey(0)\n",
    "cv2.destroyAllWindows()"
   ]
  },
  {
   "cell_type": "code",
   "execution_count": null,
   "id": "c357fbef",
   "metadata": {},
   "outputs": [],
   "source": []
  }
 ],
 "metadata": {
  "kernelspec": {
   "display_name": "Python 3 (ipykernel)",
   "language": "python",
   "name": "python3"
  },
  "language_info": {
   "codemirror_mode": {
    "name": "ipython",
    "version": 3
   },
   "file_extension": ".py",
   "mimetype": "text/x-python",
   "name": "python",
   "nbconvert_exporter": "python",
   "pygments_lexer": "ipython3",
   "version": "3.12.4"
  }
 },
 "nbformat": 4,
 "nbformat_minor": 5
}
