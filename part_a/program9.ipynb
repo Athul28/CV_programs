{
 "cells": [
  {
   "cell_type": "markdown",
   "id": "fd96d288-e929-49d5-b939-b48c38d6e93f",
   "metadata": {},
   "source": [
    "### Implement Edge detection and Contour detection on images using openCV. "
   ]
  },
  {
   "cell_type": "code",
   "execution_count": 2,
   "id": "39c51a01-6dd7-488b-a715-3f1cf28bb659",
   "metadata": {},
   "outputs": [],
   "source": [
    "import cv2\n",
    "image=cv2.imread('../images/img.png')\n",
    "gray=cv2.cvtColor(image,cv2.COLOR_BGR2GRAY)\n",
    "blurred=cv2.GaussianBlur(gray,(3,3),0)"
   ]
  },
  {
   "cell_type": "code",
   "execution_count": 6,
   "id": "1ce6318a-3926-4745-8ef0-b91453410a41",
   "metadata": {},
   "outputs": [],
   "source": [
    "wide_edge=cv2.Canny(blurred,10,100)\n",
    "mid_edge=cv2.Canny(blurred,30,150)\n",
    "tight_edge=cv2.Canny(blurred,240,250)"
   ]
  },
  {
   "cell_type": "code",
   "execution_count": 10,
   "id": "855b29bb-cce2-4bd8-97a8-041169877586",
   "metadata": {},
   "outputs": [],
   "source": [
    "cv2.imshow(\"Original Image\",image)\n",
    "cv2.imshow(\"Wide edge\",wide_edge)\n",
    "cv2.imshow(\"Mid edge\",mid_edge)\n",
    "cv2.imshow(\"Tight edge\",tight_edge)\n",
    "\n",
    "cv2.waitKey(0)\n",
    "cv2.destroyAllWindows()"
   ]
  },
  {
   "cell_type": "code",
   "execution_count": 12,
   "id": "6699303b-ffd0-4e5c-ab72-9de1b413a821",
   "metadata": {},
   "outputs": [
    {
     "name": "stdout",
     "output_type": "stream",
     "text": [
      "Number of contours:  321\n"
     ]
    }
   ],
   "source": [
    "#contour detection\n",
    "\n",
    "contours,_=cv2.findContours(mid_edge,cv2.RETR_EXTERNAL,cv2.CHAIN_APPROX_SIMPLE)\n",
    "cv2.drawContours(image,contours,-1,(0,255,0),3)\n",
    "print(\"Number of contours: \",str(len(contours)))\n",
    "\n",
    "cv2.imshow(\"Contours\",image)\n",
    "cv2.waitKey(0)\n",
    "cv2.destroyAllWindows()"
   ]
  },
  {
   "cell_type": "code",
   "execution_count": null,
   "id": "a198d5aa-466a-4196-97b8-c2dfc6ed32ff",
   "metadata": {},
   "outputs": [],
   "source": []
  }
 ],
 "metadata": {
  "kernelspec": {
   "display_name": "Python 3 (ipykernel)",
   "language": "python",
   "name": "python3"
  },
  "language_info": {
   "codemirror_mode": {
    "name": "ipython",
    "version": 3
   },
   "file_extension": ".py",
   "mimetype": "text/x-python",
   "name": "python",
   "nbconvert_exporter": "python",
   "pygments_lexer": "ipython3",
   "version": "3.12.4"
  }
 },
 "nbformat": 4,
 "nbformat_minor": 5
}
