{
 "cells": [
  {
   "cell_type": "markdown",
   "id": "5c70bf8a-d2f7-4359-bc2b-92fcda8df89b",
   "metadata": {},
   "source": [
    "## Implement various image filtering mechanisms"
   ]
  },
  {
   "cell_type": "code",
   "execution_count": 14,
   "id": "bb8e0587-0bec-48ec-b204-658c8c033ab9",
   "metadata": {},
   "outputs": [],
   "source": [
    "import cv2\n",
    "import numpy as np\n",
    "image=cv2.imread('img.png')"
   ]
  },
  {
   "cell_type": "code",
   "execution_count": 16,
   "id": "c210e800-e6f1-421e-8bea-99206c9e1eef",
   "metadata": {},
   "outputs": [],
   "source": [
    "mean_filtered=cv2.blur(image,(7,7))"
   ]
  },
  {
   "cell_type": "code",
   "execution_count": 18,
   "id": "8f4cd8a8-c1e4-4e4a-8c32-1dfbc372da05",
   "metadata": {},
   "outputs": [],
   "source": [
    "median_filtered=cv2.medianBlur(image,7)"
   ]
  },
  {
   "cell_type": "code",
   "execution_count": 20,
   "id": "17813daa-b9a2-4d7a-b481-153e4cfc408c",
   "metadata": {},
   "outputs": [],
   "source": [
    "laplacian=cv2.Laplacian(image,cv2.CV_64F)\n",
    "laplacian_filtered=cv2.convertScaleAbs(laplacian)"
   ]
  },
  {
   "cell_type": "code",
   "execution_count": 24,
   "id": "b0b5d97a-5975-4738-ad27-bb07a5b728ab",
   "metadata": {},
   "outputs": [],
   "source": [
    "cv2.imshow(\"Original Image\",image)\n",
    "cv2.imshow(\"Mean Filtered\",mean_filtered)\n",
    "cv2.imshow(\"Median Filtered\",median_filtered)\n",
    "cv2.imshow(\"Laplacian Filtered\",laplacian_filtered)\n",
    "cv2.waitKey(0)\n",
    "cv2.destroyAllWindows()"
   ]
  },
  {
   "cell_type": "code",
   "execution_count": null,
   "id": "2d184805-8970-41ba-8b15-cab79ffc71eb",
   "metadata": {},
   "outputs": [],
   "source": []
  }
 ],
 "metadata": {
  "kernelspec": {
   "display_name": "Python 3 (ipykernel)",
   "language": "python",
   "name": "python3"
  },
  "language_info": {
   "codemirror_mode": {
    "name": "ipython",
    "version": 3
   },
   "file_extension": ".py",
   "mimetype": "text/x-python",
   "name": "python",
   "nbconvert_exporter": "python",
   "pygments_lexer": "ipython3",
   "version": "3.12.4"
  }
 },
 "nbformat": 4,
 "nbformat_minor": 5
}
